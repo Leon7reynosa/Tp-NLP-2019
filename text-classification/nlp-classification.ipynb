{
 "cells": [
  {
   "cell_type": "markdown",
   "metadata": {},
   "source": [
    "# NLP - Clasificacion de Textos"
   ]
  },
  {
   "cell_type": "markdown",
   "metadata": {},
   "source": [
    "## 1. Dataset elegido"
   ]
  },
  {
   "cell_type": "markdown",
   "metadata": {},
   "source": [
    "El dataset elegido fue: **BBC Full Text Document Classification**. Este contiene articulos de:\n",
    "- economia\n",
    "- entretenimiento\n",
    "- politica\n",
    "- deporte\n",
    "- tecnologia\n",
    "\n",
    "El motivo de la eleccion fue que un dataset de este tipo de contenido nos facilitara la tarea de clasificar textos de tematica similar a la del dataset, como ser trabajos academicos de materias como economia general.\n",
    "Si bien el dataset se encuentra en ingles, se puede pensar la posibilidad en un futuro de encontrar un corpus semejante en español y realizar la clasificacion en dicho idioma\n",
    "\n",
    "El dataset es abierto y puede ser bajado desde la pagina de Kaggle: https://www.kaggle.com/shivamkushwaha/bbc-full-text-document-classification"
   ]
  },
  {
   "cell_type": "markdown",
   "metadata": {},
   "source": [
    "## 2. Bibliotecas Principales"
   ]
  },
  {
   "cell_type": "markdown",
   "metadata": {},
   "source": [
    "- Para realizar el preprocesamiento del texto del corpus elegido utilizamos las funciones proporcionadas por **NLTK**. Posteriormente seran mencionadas las tecnicas de preprocesamiento.\n",
    "- Elegimos **SKlearn** para la vectorizacion de los textos y para la clasificacion de los textos hacemos uso de cinco clasificadores diferentes"
   ]
  },
  {
   "cell_type": "code",
   "execution_count": 1,
   "metadata": {},
   "outputs": [],
   "source": [
    "import pandas as pd\n",
    "import numpy as np\n",
    "import nltk\n",
    "\n",
    "from sklearn.model_selection import train_test_split, cross_val_score\n",
    "from sklearn.feature_extraction.text import TfidfVectorizer\n",
    "from sklearn.metrics import accuracy_score\n",
    "\n",
    "from sklearn.naive_bayes import MultinomialNB\n",
    "from sklearn.neighbors import KNeighborsClassifier\n",
    "from sklearn.svm import LinearSVC\n",
    "from sklearn.tree import DecisionTreeClassifier\n",
    "from sklearn.ensemble import RandomForestClassifier\n",
    "\n",
    "import matplotlib.pyplot as plt\n",
    "\n",
    "from functools import reduce\n",
    "from collections import OrderedDict\n",
    "import os\n",
    "import re"
   ]
  },
  {
   "cell_type": "markdown",
   "metadata": {},
   "source": [
    "## 3. Manejo del dataset"
   ]
  },
  {
   "cell_type": "markdown",
   "metadata": {},
   "source": [
    "### 3.1. Importamos el dataset"
   ]
  },
  {
   "cell_type": "markdown",
   "metadata": {},
   "source": [
    "Importamos todos los topicos mencionados del dataset y los guardamos en un diccionario"
   ]
  },
  {
   "cell_type": "code",
   "execution_count": 2,
   "metadata": {},
   "outputs": [],
   "source": [
    "topics = ['business/', 'entertainment/', 'politics/', 'sport/', 'tech/']\n",
    "\n",
    "paths = list(map(lambda topic: \"bbc/\" + topic, topics))\n",
    "\n",
    "dataset = OrderedDict()\n",
    "\n",
    "for topic_path in paths:\n",
    "    path = topic_path\n",
    "    dirs = os.listdir(path)\n",
    "    topic_name = topic_path.split(\"/\")[1]\n",
    "    topic_data = []\n",
    "\n",
    "    for file_name in dirs:\n",
    "        file = open(path + file_name, \"rb\")\n",
    "        topic_data.append(str(file.read(), encoding=\"utf-8\", errors=\"ignore\"))\n",
    "        file.close()\n",
    "\n",
    "    dataset[topic_name] = topic_data"
   ]
  },
  {
   "cell_type": "markdown",
   "metadata": {},
   "source": [
    "### 3.2. Análisis preeliminar"
   ]
  },
  {
   "cell_type": "markdown",
   "metadata": {},
   "source": [
    "Analizamos la cantidad de documentos por clase. Vemos que el dataset se encuentra considerablemente balanceado."
   ]
  },
  {
   "cell_type": "code",
   "execution_count": 3,
   "metadata": {},
   "outputs": [
    {
     "data": {
      "image/png": "[encoded data removed]",
      "text/plain": [
       "<Figure size 432x288 with 1 Axes>"
      ]
     },
     "metadata": {
      "needs_background": "light"
     },
     "output_type": "display_data"
    }
   ],
   "source": [
    "def flatten(l):\n",
    "    return list(reduce(lambda a, b: a + b, l))\n",
    "\n",
    "df = pd.DataFrame({\n",
    "    'text': flatten([value for _, value in dataset.items()]), \n",
    "    'target': flatten(list([ [key] * len(values) for key, values in dataset.items() ]))\n",
    "})\n",
    "\n",
    "samples_per_class = df.groupby('target').count()\n",
    "\n",
    "y_positions = np.arange(len(samples_per_class))\n",
    "plt.barh(y_positions, samples_per_class['text'])\n",
    "plt.yticks(y_positions, samples_per_class.index)\n",
    "plt.xlabel('Cantidad de Documentos')\n",
    "plt.show()"
   ]
  },
  {
   "cell_type": "markdown",
   "metadata": {},
   "source": [
    "## 4. Preprocesamiento"
   ]
  },
  {
   "cell_type": "markdown",
   "metadata": {},
   "source": [
    "### 4.1. Filtro de stopwords"
   ]
  },
  {
   "cell_type": "markdown",
   "metadata": {},
   "source": [
    "Filtramos las palabras de los documentos que no proporcionen algun significado relevante, es decir, mantenemos solo las palabras que no sean stopwords."
   ]
  },
  {
   "cell_type": "code",
   "execution_count": 4,
   "metadata": {},
   "outputs": [],
   "source": [
    "not_letter_or_space = re.compile('[^a-z ]')\n",
    "english_stopwords = set(nltk.corpus.stopwords.words('english'))\n",
    "\n",
    "def clean_text(document):\n",
    "    document = document.lower()\n",
    "    document = not_letter_or_space.sub('', document)\n",
    "    document = ' '.join(word for word in nltk.tokenize.word_tokenize(document) if word not in english_stopwords)\n",
    "    return document\n",
    "\n",
    "df['text'] = df['text'].apply(clean_text)"
   ]
  },
  {
   "cell_type": "markdown",
   "metadata": {},
   "source": [
    "### 4.2. Lematizacion"
   ]
  },
  {
   "cell_type": "markdown",
   "metadata": {},
   "source": [
    "De todas las palabras filtradas por el paso anterior, procedemos a quedarnos con el lemma de cada una de ellas. El lemma es la forma que por convenio se acepta como representante de todas las formas flexionadas de una misma palabra."
   ]
  },
  {
   "cell_type": "code",
   "execution_count": 5,
   "metadata": {},
   "outputs": [],
   "source": [
    "lemmatizer = nltk.stem.WordNetLemmatizer()\n",
    "\n",
    "def lemmatize_text(document):\n",
    "    document = ' '.join(lemmatizer.lemmatize(word) for word in nltk.tokenize.word_tokenize(document))\n",
    "    return document\n",
    "\n",
    "df['text'] = df['text'].apply(lemmatize_text)"
   ]
  },
  {
   "cell_type": "markdown",
   "metadata": {},
   "source": [
    "## 5. Vectorizacion"
   ]
  },
  {
   "cell_type": "markdown",
   "metadata": {},
   "source": [
    "Vectorizamos los textos ya preprocesados para luego poder entrenar con los modelos de clasificacion que habremos elegido"
   ]
  },
  {
   "cell_type": "markdown",
   "metadata": {},
   "source": [
    "El método de extracción fue TF-IDF (Term Frequency - Inverse Document Frequency). Genera un feature por palabra, siendo el valor de la misma el siguiente:"
   ]
  },
  {
   "cell_type": "markdown",
   "metadata": {},
   "source": [
    "$$TF(Texto, Palabra) = cantidad\\_de\\_ocurrencias\\_de\\_Palabra\\_en\\_Texto$$"
   ]
  },
  {
   "cell_type": "markdown",
   "metadata": {},
   "source": [
    "$$IDF(Palabra) = \\log{\\frac{cantidad\\_de\\_textos}{cantidad\\_de\\_textos\\_que\\_contienen\\_Palabra}}$$"
   ]
  },
  {
   "cell_type": "markdown",
   "metadata": {},
   "source": [
    "$$Feature(Texto, Palabra) = TF(TextO, Palabra) * IDF(Palabra)$$"
   ]
  },
  {
   "cell_type": "code",
   "execution_count": 6,
   "metadata": {},
   "outputs": [],
   "source": [
    "vectorizer = TfidfVectorizer(ngram_range = (1,2), tokenizer = nltk.word_tokenize)\n",
    "feature_matrix = vectorizer.fit_transform(df[\"text\"])"
   ]
  },
  {
   "cell_type": "markdown",
   "metadata": {},
   "source": [
    "## 6. Entrenamos y Testeamos"
   ]
  },
  {
   "cell_type": "markdown",
   "metadata": {},
   "source": [
    "Testeamos los siguientes modelos:\n",
    "\n",
    "* Maquina de Soporte Vectorial Lineal\n",
    "* Naive Bayes\n",
    "* K Nearest Neighbours (k = 10)\n",
    "* Árbol de decisión\n",
    "* Random Forest"
   ]
  },
  {
   "cell_type": "code",
   "execution_count": 7,
   "metadata": {},
   "outputs": [],
   "source": [
    "model_names = np.array(['Linear SVM', 'Naive Bayes', 'KNN, k=10', 'Decision Tree', 'Random Forest'])\n",
    "models = np.array([LinearSVC(), MultinomialNB(), KNeighborsClassifier(10), DecisionTreeClassifier(), RandomForestClassifier(n_estimators=100)])\n",
    "\n",
    "accuracies = []\n",
    "\n",
    "for model_name, model in zip(model_names, models):\n",
    "    X_train, X_test, Y_train, Y_test = train_test_split(\n",
    "        feature_matrix, df[\"target\"], test_size=0.3)\n",
    "    model.fit(X_train, Y_train)\n",
    "    predicted = model.predict(X_test)\n",
    "    accuracy = accuracy_score(Y_test, predicted)\n",
    "    accuracies.append(accuracy)"
   ]
  },
  {
   "cell_type": "markdown",
   "metadata": {},
   "source": [
    "Mostramos la precision de cada uno de los clasificadores"
   ]
  },
  {
   "cell_type": "code",
   "execution_count": 8,
   "metadata": {},
   "outputs": [
    {
     "data": {
      "text/plain": [
       "Text(0, 0.5, 'Accuracy')"
      ]
     },
     "execution_count": 8,
     "metadata": {},
     "output_type": "execute_result"
    },
    {
     "data": {
      "image/png": "[encoded data removed]",
      "text/plain": [
       "<Figure size 432x288 with 1 Axes>"
      ]
     },
     "metadata": {
      "needs_background": "light"
     },
     "output_type": "display_data"
    }
   ],
   "source": [
    "x_positions = np.arange(len(model_names))\n",
    "min_value = min(accuracies)\n",
    "max_value = max(accuracies)\n",
    "y_lower = max(0.0, min_value - 0.5 * (max_value - min_value))\n",
    "y_upper = min(1.0, max_value + 0.5 * (max_value - min_value))\n",
    "plt.bar(x_positions, accuracies)\n",
    "plt.ylim(y_lower, y_upper)\n",
    "plt.xticks(x_positions, model_names, rotation=-45)\n",
    "plt.ylabel('Accuracy')"
   ]
  },
  {
   "cell_type": "markdown",
   "metadata": {},
   "source": [
    "Como podemos ver, la **máquina de soporte vectorial** y **Naive Bayes** obtienen consistentemente los mejores resultados, seguidos por **KNN** con k = 10, **Random Forest** con 100 estimadores obtiene resultados similares a KNN, pero generalmente un poco menores. El **árbol de decisión** no parece tan adecuado para esta clasificación, obteniendo una precisión entre un 14% y un 16% menor a los otros modelos testeados.\n",
    "\n",
    "Observaciones\n",
    "\n",
    "* Utilizar lematización disminuye ligeramente la precisión de la clasificación (promedia un 2% de disminución). Sin embargo, esperamos que la misma mejore el rendimiento de los modelos al clasificar textos no pertenecientes a este corpus"
   ]
  },
  {
   "cell_type": "markdown",
   "metadata": {},
   "source": [
    "### 6.1. Cross Validation"
   ]
  },
  {
   "cell_type": "code",
   "execution_count": 11,
   "metadata": {},
   "outputs": [
    {
     "data": {
      "text/plain": [
       "array([0.96444444, 0.98206278, 0.99103139, 0.97757848, 0.96412556,\n",
       "       0.98654709, 0.95945946, 0.98190045, 0.99095023, 0.98190045])"
      ]
     },
     "execution_count": 11,
     "metadata": {},
     "output_type": "execute_result"
    }
   ],
   "source": [
    "model = LinearSVC()\n",
    "cross_val_score(model, feature_matrix, df['target'], cv=10)"
   ]
  },
  {
   "cell_type": "markdown",
   "metadata": {},
   "source": [
    "### 7. Próximos Pasos\n",
    "- Se puede pensar en elegir posteriormente un dataset en español. Esto es posible ya que los clasificadores presentados sirven para otros idiomas, ademas de que NLTK ofrecen stopwords del español\n",
    "- Probar la utilización de document embeddings para la extracción de features en vez de la vectorización usando TfidfVectorizer."
   ]
  }
 ],
 "metadata": {
  "kernelspec": {
   "display_name": "Python 3",
   "language": "python",
   "name": "python3"
  },
  "language_info": {
   "codemirror_mode": {
    "name": "ipython",
    "version": 3
   },
   "file_extension": ".py",
   "mimetype": "text/x-python",
   "name": "python",
   "nbconvert_exporter": "python",
   "pygments_lexer": "ipython3",
   "version": "3.6.8"
  }
 },
 "nbformat": 4,
 "nbformat_minor": 4
}
